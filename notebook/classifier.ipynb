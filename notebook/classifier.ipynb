{
 "cells": [
  {
   "cell_type": "code",
   "execution_count": 1,
   "metadata": {},
   "outputs": [
    {
     "name": "stderr",
     "output_type": "stream",
     "text": [
      "Copying files: 2280 files [00:05, 449.96 files/s]\n"
     ]
    }
   ],
   "source": [
    "#폴더 yolo 형식으로 정리: train val test 나누고 -> images labels 폴더 따로따로 존재함\n",
    "import splitfolders\n",
    "from glob import glob\n",
    "import os.path as osp\n",
    "tgt_images_dir=\"./datasets/test_set\"\n",
    "new_images_dir=\"./datasets/test_set/align\"\n",
    "\n",
    "splitfolders.ratio(tgt_images_dir, output=new_images_dir, seed=1337, ratio=(.8, .1, .1))\n",
    "    "
   ]
  }
 ],
 "metadata": {
  "kernelspec": {
   "display_name": "Python 3",
   "language": "python",
   "name": "python3"
  },
  "language_info": {
   "codemirror_mode": {
    "name": "ipython",
    "version": 3
   },
   "file_extension": ".py",
   "mimetype": "text/x-python",
   "name": "python",
   "nbconvert_exporter": "python",
   "pygments_lexer": "ipython3",
   "version": "3.11.3"
  },
  "orig_nbformat": 4
 },
 "nbformat": 4,
 "nbformat_minor": 2
}
